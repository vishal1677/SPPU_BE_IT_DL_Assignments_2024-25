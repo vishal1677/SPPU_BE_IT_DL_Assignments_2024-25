{
 "cells": [
  {
   "cell_type": "code",
   "execution_count": 1,
   "id": "20258c5d-469a-4630-9086-6c25186916ed",
   "metadata": {},
   "outputs": [],
   "source": [
    "import tensorflow as tf\n",
    "from tensorflow.keras.datasets import mnist"
   ]
  },
  {
   "cell_type": "code",
   "execution_count": 2,
   "id": "c2c309df-68c5-412a-920d-2cb8dbdda1ee",
   "metadata": {},
   "outputs": [],
   "source": [
    "from tensorflow.keras.preprocessing.image import ImageDataGenerator"
   ]
  },
  {
   "cell_type": "code",
   "execution_count": 3,
   "id": "1e609e16-00e1-44bc-8f69-315f3a9dc131",
   "metadata": {},
   "outputs": [],
   "source": [
    "train_dir=''\n",
    "test_dir=''\n",
    "image_generator=ImageDataGenerator(1.0/255)"
   ]
  },
  {
   "cell_type": "code",
   "execution_count": 7,
   "id": "e3f4c8a7-da33-4f24-97ea-9c5ed821673b",
   "metadata": {},
   "outputs": [],
   "source": [
    "# train_generator=image_generator.flow_from_directory(\n",
    "#     train_dir,\n",
    "#     batch_size=10000,\n",
    "#     target_size=(28,28),\n",
    "#     color_mode='grayscale',\n",
    "#     class_mode='categorical',\n",
    "#     shuffle=True,\n",
    "#     )"
   ]
  },
  {
   "cell_type": "code",
   "execution_count": 8,
   "id": "7efc0ce8-1004-488b-9d48-2d938ebc2c28",
   "metadata": {},
   "outputs": [],
   "source": [
    "# test_generator=image_generator.flow_from_directory(\n",
    "#     test_dir,\n",
    "#     batch_size=50000,\n",
    "#     target_size=(28,28),\n",
    "#     color_mode='greyscale',\n",
    "#     class_mode='categorical',\n",
    "#     shuffle=True,\n",
    "#     )"
   ]
  },
  {
   "cell_type": "code",
   "execution_count": 9,
   "id": "5eea7075-161a-44af-9e49-bb6df56f8bd4",
   "metadata": {},
   "outputs": [],
   "source": [
    "# x_train,y_train=train_generator[0]\n",
    "# x_test,y_test=test_generator[0]"
   ]
  },
  {
   "cell_type": "code",
   "execution_count": 10,
   "id": "06c029d0-7244-4546-be49-171e3f9bd134",
   "metadata": {},
   "outputs": [],
   "source": [
    "# # for cifar10\n",
    "# train_path=''\n",
    "# test_path=''\n",
    "# train_gen=ImageDataGenerator.flow_from_directory(\n",
    "#     train_path,\n",
    "#     target_size=(32,32),\n",
    "#      batch_size=20000,\n",
    "# )\n",
    "# test_get=ImageDataGenerator.flow_from_directory(\n",
    "#     test_path,\n",
    "#     target_size=(32,32),\n",
    "#      batch_size=2000,\n",
    "# )\n",
    "# x_train,y_train=train_gen[0]\n"
   ]
  },
  {
   "cell_type": "code",
   "execution_count": 11,
   "id": "73142d93-7f1c-4e69-9233-c5ff4167a81d",
   "metadata": {},
   "outputs": [],
   "source": [
    "(x_train,y_train),(x_test,y_test)=mnist.load_data()"
   ]
  },
  {
   "cell_type": "code",
   "execution_count": 12,
   "id": "ab90e3c5-90cc-4f62-9510-c7655ba55ac9",
   "metadata": {},
   "outputs": [],
   "source": [
    "import numpy as np\n",
    "import pandas as pd\n",
    "import matplotlib.pyplot as plt\n",
    "import seaborn as sns\n"
   ]
  },
  {
   "cell_type": "code",
   "execution_count": 13,
   "id": "4fd960af-8532-42b1-ad4c-9dba65ab5f17",
   "metadata": {},
   "outputs": [
    {
     "data": {
      "text/plain": [
       "<matplotlib.image.AxesImage at 0x15670010bf0>"
      ]
     },
     "execution_count": 13,
     "metadata": {},
     "output_type": "execute_result"
    },
    {
     "data": {
      "image/png": "[encoded data removed]",
      "text/plain": [
       "<Figure size 640x480 with 1 Axes>"
      ]
     },
     "metadata": {},
     "output_type": "display_data"
    }
   ],
   "source": [
    "plt.imshow(x_train[0])"
   ]
  },
  {
   "cell_type": "code",
   "execution_count": 14,
   "id": "f3cb4ba0-5c34-4071-bc39-2d85f4f34314",
   "metadata": {},
   "outputs": [
    {
     "name": "stdout",
     "output_type": "stream",
     "text": [
      "(60000, 28, 28)\n",
      "(10000, 28, 28)\n",
      "(60000,)\n",
      "(10000,)\n"
     ]
    }
   ],
   "source": [
    "print(x_train.shape)\n",
    "print(x_test.shape)\n",
    "print(y_train.shape)\n",
    "print(y_test.shape)"
   ]
  },
  {
   "cell_type": "code",
   "execution_count": 16,
   "id": "c214548d-8da3-499d-a953-6fec7cd0c051",
   "metadata": {},
   "outputs": [],
   "source": [
    "x_train=x_train/255\n",
    "x_test=x_test/255"
   ]
  },
  {
   "cell_type": "code",
   "execution_count": 15,
   "id": "d6abc917-4f33-4f3a-9672-5473b13e2e22",
   "metadata": {},
   "outputs": [],
   "source": [
    "from tensorflow.keras.models import Sequential\n",
    "from tensorflow.keras.layers import Dense,Flatten"
   ]
  },
  {
   "cell_type": "code",
   "execution_count": 17,
   "id": "7b466ab4-25e7-468e-a717-7f35c8a557df",
   "metadata": {},
   "outputs": [
    {
     "name": "stderr",
     "output_type": "stream",
     "text": [
      "C:\\Users\\Dell\\AppData\\Roaming\\Python\\Python312\\site-packages\\keras\\src\\layers\\reshaping\\flatten.py:37: UserWarning: Do not pass an `input_shape`/`input_dim` argument to a layer. When using Sequential models, prefer using an `Input(shape)` object as the first layer in the model instead.\n",
      "  super().__init__(**kwargs)\n"
     ]
    }
   ],
   "source": [
    "model=Sequential([\n",
    "    Flatten(input_shape=(28,28)),\n",
    "    Dense(50,activation='relu'),\n",
    "    Dense(50,activation='relu'),\n",
    "    Dense(10,activation='softmax'),\n",
    "])"
   ]
  },
  {
   "cell_type": "code",
   "execution_count": 18,
   "id": "9e084ada-1442-4491-870e-20c906928093",
   "metadata": {},
   "outputs": [],
   "source": [
    "model.compile(optimizer='sgd',metrics=['accuracy'],loss=tf.keras.losses.SparseCategoricalCrossentropy)"
   ]
  },
  {
   "cell_type": "code",
   "execution_count": 20,
   "id": "cfa3be05-3f9a-411f-a636-c0ce1bda7a77",
   "metadata": {},
   "outputs": [
    {
     "name": "stdout",
     "output_type": "stream",
     "text": [
      "Epoch 1/10\n",
      "\u001b[1m2000/2000\u001b[0m \u001b[32m━━━━━━━━━━━━━━━━━━━━\u001b[0m\u001b[37m\u001b[0m \u001b[1m5s\u001b[0m 3ms/step - accuracy: 0.9030 - loss: 0.3367 - val_accuracy: 0.9207 - val_loss: 0.2776\n",
      "Epoch 2/10\n",
      "\u001b[1m2000/2000\u001b[0m \u001b[32m━━━━━━━━━━━━━━━━━━━━\u001b[0m\u001b[37m\u001b[0m \u001b[1m4s\u001b[0m 2ms/step - accuracy: 0.9193 - loss: 0.2840 - val_accuracy: 0.9336 - val_loss: 0.2354\n",
      "Epoch 3/10\n",
      "\u001b[1m2000/2000\u001b[0m \u001b[32m━━━━━━━━━━━━━━━━━━━━\u001b[0m\u001b[37m\u001b[0m \u001b[1m5s\u001b[0m 2ms/step - accuracy: 0.9339 - loss: 0.2312 - val_accuracy: 0.9382 - val_loss: 0.2122\n",
      "Epoch 4/10\n",
      "\u001b[1m2000/2000\u001b[0m \u001b[32m━━━━━━━━━━━━━━━━━━━━\u001b[0m\u001b[37m\u001b[0m \u001b[1m5s\u001b[0m 2ms/step - accuracy: 0.9389 - loss: 0.2140 - val_accuracy: 0.9425 - val_loss: 0.1955\n",
      "Epoch 5/10\n",
      "\u001b[1m2000/2000\u001b[0m \u001b[32m━━━━━━━━━━━━━━━━━━━━\u001b[0m\u001b[37m\u001b[0m \u001b[1m4s\u001b[0m 2ms/step - accuracy: 0.9471 - loss: 0.1840 - val_accuracy: 0.9481 - val_loss: 0.1778\n",
      "Epoch 6/10\n",
      "\u001b[1m2000/2000\u001b[0m \u001b[32m━━━━━━━━━━━━━━━━━━━━\u001b[0m\u001b[37m\u001b[0m \u001b[1m5s\u001b[0m 2ms/step - accuracy: 0.9487 - loss: 0.1733 - val_accuracy: 0.9526 - val_loss: 0.1652\n",
      "Epoch 7/10\n",
      "\u001b[1m2000/2000\u001b[0m \u001b[32m━━━━━━━━━━━━━━━━━━━━\u001b[0m\u001b[37m\u001b[0m \u001b[1m4s\u001b[0m 2ms/step - accuracy: 0.9546 - loss: 0.1580 - val_accuracy: 0.9533 - val_loss: 0.1567\n",
      "Epoch 8/10\n",
      "\u001b[1m2000/2000\u001b[0m \u001b[32m━━━━━━━━━━━━━━━━━━━━\u001b[0m\u001b[37m\u001b[0m \u001b[1m5s\u001b[0m 2ms/step - accuracy: 0.9576 - loss: 0.1460 - val_accuracy: 0.9566 - val_loss: 0.1460\n",
      "Epoch 9/10\n",
      "\u001b[1m2000/2000\u001b[0m \u001b[32m━━━━━━━━━━━━━━━━━━━━\u001b[0m\u001b[37m\u001b[0m \u001b[1m5s\u001b[0m 2ms/step - accuracy: 0.9618 - loss: 0.1341 - val_accuracy: 0.9595 - val_loss: 0.1376\n",
      "Epoch 10/10\n",
      "\u001b[1m2000/2000\u001b[0m \u001b[32m━━━━━━━━━━━━━━━━━━━━\u001b[0m\u001b[37m\u001b[0m \u001b[1m5s\u001b[0m 2ms/step - accuracy: 0.9631 - loss: 0.1274 - val_accuracy: 0.9612 - val_loss: 0.1340\n"
     ]
    },
    {
     "data": {
      "text/plain": [
       "<keras.src.callbacks.history.History at 0x1561849f320>"
      ]
     },
     "execution_count": 20,
     "metadata": {},
     "output_type": "execute_result"
    }
   ],
   "source": [
    "model.fit(x_train,y_train,validation_data=(x_test,y_test),batch_size=30,shuffle=True,epochs=10)"
   ]
  },
  {
   "cell_type": "code",
   "execution_count": 21,
   "id": "f1f77386-98b3-4328-b36c-c6c46fb9f4a2",
   "metadata": {},
   "outputs": [
    {
     "data": {
      "text/plain": [
       "<Axes: >"
      ]
     },
     "execution_count": 21,
     "metadata": {},
     "output_type": "execute_result"
    },
    {
     "data": {
      "image/png": "[encoded data removed]",
      "text/plain": [
       "<Figure size 640x480 with 1 Axes>"
      ]
     },
     "metadata": {},
     "output_type": "display_data"
    }
   ],
   "source": [
    "sns.lineplot(model.history.history)"
   ]
  },
  {
   "cell_type": "code",
   "execution_count": 22,
   "id": "7a92bc42-90f0-48c4-a412-4ea2b2ca1619",
   "metadata": {},
   "outputs": [
    {
     "name": "stdout",
     "output_type": "stream",
     "text": [
      "\u001b[1m313/313\u001b[0m \u001b[32m━━━━━━━━━━━━━━━━━━━━\u001b[0m\u001b[37m\u001b[0m \u001b[1m1s\u001b[0m 2ms/step\n"
     ]
    }
   ],
   "source": [
    "pred=model.predict(x_test)"
   ]
  },
  {
   "cell_type": "code",
   "execution_count": 24,
   "id": "bedfdd1e-075d-49dd-9f3e-237cbd30f2fa",
   "metadata": {},
   "outputs": [
    {
     "data": {
      "text/plain": [
       "Text(0.5, 1.0, '2')"
      ]
     },
     "execution_count": 24,
     "metadata": {},
     "output_type": "execute_result"
    },
    {
     "data": {
      "image/png": "[encoded data removed]",
      "text/plain": [
       "<Figure size 640x480 with 1 Axes>"
      ]
     },
     "metadata": {},
     "output_type": "display_data"
    }
   ],
   "source": [
    "plt.imshow(x_test[1])\n",
    "plt.title(pred[1].argmax())"
   ]
  },
  {
   "cell_type": "code",
   "execution_count": null,
   "id": "7eb9e2b7-ec73-4a58-b082-c79be10cbb96",
   "metadata": {},
   "outputs": [],
   "source": []
  }
 ],
 "metadata": {
  "kernelspec": {
   "display_name": "Python 3 (ipykernel)",
   "language": "python",
   "name": "python3"
  },
  "language_info": {
   "codemirror_mode": {
    "name": "ipython",
    "version": 3
   },
   "file_extension": ".py",
   "mimetype": "text/x-python",
   "name": "python",
   "nbconvert_exporter": "python",
   "pygments_lexer": "ipython3",
   "version": "3.12.0"
  }
 },
 "nbformat": 4,
 "nbformat_minor": 5
}
